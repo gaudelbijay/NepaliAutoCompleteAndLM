{
 "cells": [
  {
   "cell_type": "code",
   "execution_count": 1,
   "metadata": {},
   "outputs": [],
   "source": [
    "import torch\n",
    "import torch.nn as nn\n",
    "from collections import Counter\n",
    "from model import RNN\n",
    "import matplotlib.pyplot as plt"
   ]
  },
  {
   "cell_type": "code",
   "execution_count": 2,
   "metadata": {},
   "outputs": [
    {
     "data": {
      "text/plain": [
       "(array([262., 969., 592., 427., 172., 127.,  61.,  19.,  20.,   6.,   5.,\n",
       "          2.,   0.,   2.,   0.,   1.,   1.,   0.,   0.,   1.]),\n",
       " array([ 0. ,  3.6,  7.2, 10.8, 14.4, 18. , 21.6, 25.2, 28.8, 32.4, 36. ,\n",
       "        39.6, 43.2, 46.8, 50.4, 54. , 57.6, 61.2, 64.8, 68.4, 72. ]),\n",
       " <a list of 20 Patch objects>)"
      ]
     },
     "execution_count": 2,
     "metadata": {},
     "output_type": "execute_result"
    },
    {
     "data": {
      "image/png": "[encoded data removed]",
      "text/plain": [
       "<Figure size 432x288 with 1 Axes>"
      ]
     },
     "metadata": {
      "needs_background": "light"
     },
     "output_type": "display_data"
    }
   ],
   "source": [
    "f = open(\"../preprocess/cleaned.txt\", \"r\", encoding=\"utf8\")\n",
    "text = f.read()\n",
    "sentences = text.split(\"।\")\n",
    "words = []\n",
    "sens_len = []\n",
    "for s in sentences:\n",
    "    w_s = s.split()\n",
    "    sens_len.append(len(w_s))\n",
    "    \n",
    "    for w in s.split():\n",
    "        words.append(w)\n",
    "plt.hist(sens_len,20)"
   ]
  },
  {
   "cell_type": "code",
   "execution_count": 3,
   "metadata": {},
   "outputs": [],
   "source": [
    "vocab_counter = Counter(words)\n",
    "threshold = 3\n",
    "vocab = [\"<UNK>\"]+[w for (w, c) in vocab_counter.most_common() if c >= threshold]"
   ]
  },
  {
   "cell_type": "code",
   "execution_count": 4,
   "metadata": {},
   "outputs": [],
   "source": [
    "vocab_len = len(vocab)"
   ]
  },
  {
   "cell_type": "code",
   "execution_count": 5,
   "metadata": {},
   "outputs": [],
   "source": [
    "max_len = 30"
   ]
  },
  {
   "cell_type": "code",
   "execution_count": 6,
   "metadata": {},
   "outputs": [],
   "source": [
    "def tensor_from_sentences(sentences,vocab, max_len=30):\n",
    "    X = []\n",
    "    Y = []\n",
    "    vocab_len = len(vocab)\n",
    "    for s in sentences:\n",
    "        w_s = s.split()\n",
    "#         print(w_s)\n",
    "        idx_ip = [vocab.index(w) if w in vocab else 0 for w in w_s]\n",
    "        len_words = len(idx_ip)\n",
    "        \n",
    "        if len_words < max_len:\n",
    "            pad = [0] * (max_len - len_words)\n",
    "            idx_ip += pad\n",
    "        else :\n",
    "            idx_ip = idx_ip[:max_len]\n",
    "        \n",
    "        idx_op = idx_ip[1:] + [0]\n",
    "        one_hot = []\n",
    "        for idx in idx_op:\n",
    "            hot = [0] * vocab_len\n",
    "            hot[idx] = 1\n",
    "            one_hot.append(hot)\n",
    "        \n",
    "        X.append(idx_ip)\n",
    "        Y.append(one_hot)\n",
    "        \n",
    "    return X,Y\n",
    "\n",
    "X, Y = tensor_from_sentences(sentences, vocab, max_len)"
   ]
  },
  {
   "cell_type": "code",
   "execution_count": 7,
   "metadata": {},
   "outputs": [],
   "source": [
    "def batchify(X,Y,batch_size):\n",
    "    batches_X = []\n",
    "    batches_Y = []\n",
    "    len_data = len(X)\n",
    "    for start in range(0,len_data,batch_size):\n",
    "        end  = None\n",
    "        if start + batch_size < len_data:\n",
    "            end = start + batch_size\n",
    "        else:\n",
    "            end = len_data\n",
    "            \n",
    "        x = torch.tensor(X[start:end], dtype=torch.long)\n",
    "        y = torch.tensor(Y[start:end], dtype=torch.float)\n",
    "        \n",
    "        batches_X.append(x)\n",
    "        batches_Y.append(y)\n",
    "    \n",
    "    return batches_X, batches_Y\n",
    "\n",
    "batches_X, batches_Y = batchify(X,Y, batch_size=20)"
   ]
  },
  {
   "cell_type": "code",
   "execution_count": 8,
   "metadata": {},
   "outputs": [],
   "source": [
    "model = RNN(vocab_len,1000,vocab_len,2)"
   ]
  },
  {
   "cell_type": "code",
   "execution_count": 9,
   "metadata": {},
   "outputs": [],
   "source": [
    "\n",
    "def train(model, optimizer, criterion, epochs, train_X, train_Y):\n",
    "    for e in range(epochs):\n",
    "        train_loss = 0\n",
    "#         train_acc = 0\n",
    "\n",
    "#         test_loss = 0\n",
    "#         test_acc = 0\n",
    "        \n",
    "        for i in range(len(train_X)):\n",
    "            x = train_X[i]\n",
    "            y = train_Y[i]\n",
    "            optimizer.zero_grad()\n",
    "            prediction, hidden = model(x)\n",
    "#             print(type(prediction))\n",
    "            loss = criterion(prediction,y)\n",
    "            loss.backward()\n",
    "            optimizer.step()\n",
    "            \n",
    "            train_loss += loss.data.item()\n",
    "#             train_acc += torch.eq(prediction.round(),y).sum().item()\n",
    "        train_loss /= len(train_X)\n",
    "#         train_acc /= len(train_X)\n",
    "        print(\"Epoch {} Train Loss: {}\".format(e+1, train_loss))\n",
    "\n",
    "#         for i in range(len(test_X)):\n",
    "#             x = test_X[i].to(device)\n",
    "#             y = test_Y[i:i+1].to(device)\n",
    "#             y = y.float()\n",
    "#             prediction = model(x)\n",
    "#             prediction = prediction.squeeze(1)\n",
    "#             loss = criterion(prediction,y)\n",
    "\n",
    "#             test_loss += loss.data.item()\n",
    "#             test_acc += torch.eq(prediction.round(),y).sum().item()\n",
    "#         test_loss /= len(test_X)\n",
    "#         test_acc /= len(test_X)\n",
    "\n",
    "#         if (e+1)%10 == 0:\n",
    "#             torch.save(model, \"/content/drive/My Drive/models/SA_LSTM/model/e_\" + str(e+1)+\".bin\")\n",
    "#         print(\"Epoch: {}  Training (loss,acc): ({},{})  Test (loss, acc):({},{})\".format( e+1, train_loss, train_acc, test_loss, test_acc))"
   ]
  },
  {
   "cell_type": "code",
   "execution_count": 10,
   "metadata": {},
   "outputs": [
    {
     "name": "stderr",
     "output_type": "stream",
     "text": [
      "C:\\Users\\mnsdk\\miniconda3\\lib\\site-packages\\torch\\nn\\functional.py:1958: UserWarning: reduction: 'mean' divides the total loss by both the batch size and the support size.'batchmean' divides only by the batch size, and aligns with the KL div math definition.'mean' will be changed to behave the same as 'batchmean' in the next major release.\n",
      "  warnings.warn(\"reduction: 'mean' divides the total loss by both the batch size and the support size.\"\n"
     ]
    },
    {
     "name": "stdout",
     "output_type": "stream",
     "text": [
      "Epoch 0 Train Loss: 0.0009904016374433135\n"
     ]
    }
   ],
   "source": [
    "optimizer = torch.optim.Adam(model.parameters())\n",
    "loss_fuction = nn.KLDivLoss()\n",
    "train(model,optimizer,loss_fuction,1, batches_X,batches_Y)"
   ]
  },
  {
   "cell_type": "code",
   "execution_count": null,
   "metadata": {},
   "outputs": [],
   "source": [
    "def count_parameters(model):\n",
    "      return sum(p.numel() for p in model.parameters() if p.requires_grad)\n",
    "count_parameters(model)"
   ]
  }
 ],
 "metadata": {
  "kernelspec": {
   "display_name": "base",
   "language": "python",
   "name": "base"
  },
  "language_info": {
   "codemirror_mode": {
    "name": "ipython",
    "version": 3
   },
   "file_extension": ".py",
   "mimetype": "text/x-python",
   "name": "python",
   "nbconvert_exporter": "python",
   "pygments_lexer": "ipython3",
   "version": "3.7.6"
  }
 },
 "nbformat": 4,
 "nbformat_minor": 4
}
